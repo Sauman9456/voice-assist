{
 "cells": [
  {
   "cell_type": "code",
   "execution_count": 1,
   "id": "c538d8ee",
   "metadata": {},
   "outputs": [],
   "source": [
    "import json\n",
    "import streamlit as st\n",
    "from prompt_utils import get_default_instructions\n",
    "from st_utils import get_logger"
   ]
  },
  {
   "cell_type": "code",
   "execution_count": null,
   "id": "dc3f7e95",
   "metadata": {},
   "outputs": [],
   "source": []
  },
  {
   "cell_type": "code",
   "execution_count": null,
   "id": "05c1efca",
   "metadata": {},
   "outputs": [],
   "source": []
  }
 ],
 "metadata": {
  "kernelspec": {
   "display_name": "base",
   "language": "python",
   "name": "python3"
  },
  "language_info": {
   "codemirror_mode": {
    "name": "ipython",
    "version": 3
   },
   "file_extension": ".py",
   "mimetype": "text/x-python",
   "name": "python",
   "nbconvert_exporter": "python",
   "pygments_lexer": "ipython3",
   "version": "3.10.18"
  }
 },
 "nbformat": 4,
 "nbformat_minor": 5
}
